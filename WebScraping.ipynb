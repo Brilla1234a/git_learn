[33mcommit d0f93235ad941d737d28e6699804794ba330248f[m[33m ([m[1;36mHEAD -> [m[1;32mmain[m[33m)[m
Author: Samuel Nuamah-Amoabeng <snuamah44@gmail.com>
Date:   Fri Mar 4 13:47:51 2022 +0000

    git commit

[33mcommit 9b14ae4dea97ef2e8ebac752e497fba5a3e60179[m
Author: Samuel Nuamah-Amoabeng <snuamah44@gmail.com>
Date:   Fri Mar 4 13:35:53 2022 +0000

    git commit WebScraping

[33mcommit 9c850c5bddcdd1f3c97c7c41a475f6f5aad4b175[m
Author: Samuel Nuamah-Amoabeng <snuamah44@gmail.com>
Date:   Fri Mar 4 12:50:42 2022 +0000

    git add Prices-of-Laptops-on-the-Jumia-website.csv

[33mcommit 65d3f5af5e467229da379aab6297026f11b1dc8d[m
Author: Samuel Nuamah-Amoabeng <snuamah44@gmail.com>
Date:   Sat Feb 26 14:03:45 2022 +0000

    Add a text file
